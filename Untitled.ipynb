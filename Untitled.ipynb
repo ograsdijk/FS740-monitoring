{
 "cells": [
  {
   "cell_type": "code",
   "execution_count": 1,
   "metadata": {},
   "outputs": [
    {
     "name": "stderr",
     "output_type": "stream",
     "text": [
      "C:\\Users\\CeNTREX\\Anaconda3\\lib\\site-packages\\h5py\\__init__.py:36: FutureWarning: Conversion of the second argument of issubdtype from `float` to `np.floating` is deprecated. In future, it will be treated as `np.float64 == np.dtype(float).type`.\n",
      "  from ._conv import register_converters as _register_converters\n"
     ]
    }
   ],
   "source": [
    "import numpy as np\n",
    "import matplotlib.pyplot as plt\n",
    "import visa\n",
    "import time\n",
    "from tqdm import tqdm_notebook as tqdm\n",
    "import importlib.util\n",
    "spec = importlib.util.spec_from_file_location(\"FS740\", \"drivers/FS740.py\")\n",
    "FS740 = importlib.util.module_from_spec(spec)\n",
    "spec.loader.exec_module(FS740)\n",
    "import visa\n",
    "import h5py"
   ]
  },
  {
   "cell_type": "code",
   "execution_count": 2,
   "metadata": {},
   "outputs": [
    {
     "data": {
      "text/plain": [
       "('ASRL1::INSTR', 'ASRL4::INSTR')"
      ]
     },
     "execution_count": 2,
     "metadata": {},
     "output_type": "execute_result"
    }
   ],
   "source": [
    "rm = visa.ResourceManager()\n",
    "rm.list_resources()"
   ]
  },
  {
   "cell_type": "code",
   "execution_count": 3,
   "metadata": {},
   "outputs": [
    {
     "name": "stdout",
     "output_type": "stream",
     "text": [
      "Stanford Research Systems,FS740,s/n001165,ver3.06.11\n",
      "0,\"No error\"\n"
     ]
    }
   ],
   "source": [
    "clock_addr = 'COM4'\n",
    "protocol = 'RS232'\n",
    "with FS740.FS740(rm, clock_addr, protocol) as clock:\n",
    "    print(clock.ReadIDN())\n",
    "    print(clock.SystemError())"
   ]
  },
  {
   "cell_type": "code",
   "execution_count": 4,
   "metadata": {},
   "outputs": [],
   "source": [
    "def FrequencyMeasurement(freq, cnt, gate, front = True):\n",
    "    wait = gate*100 if gate*100 <= 5 else 5\n",
    "    with FS740.FS740(rm, clock_addr, protocol) as clock:\n",
    "        clock.ConfigureFrequency(freq = freq, res = 'DEF', front = front)\n",
    "        print(clock.ReadConfigure(front))\n",
    "        clock.SampleCount(cnt, front)\n",
    "        print(cnt)\n",
    "        clock.SenseFrequencyGate(gate, front)\n",
    "        print(clock.ReadSenseFrequencyGate(front))\n",
    "        clock.Initiate(front)\n",
    "    \n",
    "    \n",
    "    pbar = tqdm(total = cnt)\n",
    "    while True:\n",
    "        with FS740.FS740(rm, clock_addr, protocol) as clock:\n",
    "            if clock.DataCount(front) == cnt:\n",
    "                pbar.update(clock.DataCount(front) - pbar.n)\n",
    "                break\n",
    "            pbar.update(clock.DataCount(front)-pbar.n)\n",
    "        \n",
    "        time.sleep(wait)\n",
    "    pbar.close()\n",
    "    \n",
    "    with FS740.FS740(rm, clock_addr, protocol) as clock:\n",
    "        statistics = clock.CalculateStatistics(front)\n",
    "        stability = clock.CalculateStability(front)\n",
    "        frequencies = clock.Fetch(front)\n",
    "        \n",
    "    return frequencies, statistics, stability"
   ]
  },
  {
   "cell_type": "code",
   "execution_count": null,
   "metadata": {},
   "outputs": [],
   "source": [
    "freq = 50e6\n",
    "values = FrequencyMeasurement(freq, 6000, 0.1, front = False)"
   ]
  },
  {
   "cell_type": "code",
   "execution_count": null,
   "metadata": {},
   "outputs": [],
   "source": [
    "step = 0.001\n",
    "bins = np.arange(-0.01,0.01+step,step)+5e7\n",
    "fig, ax = plt.subplots(figsize = (12,10))\n",
    "ax.hist([float(v) for v in values[0].split(',')], bins = bins);"
   ]
  },
  {
   "cell_type": "code",
   "execution_count": null,
   "metadata": {},
   "outputs": [],
   "source": [
    "allantime = []\n",
    "for i in range(10):\n",
    "    allantime.append(1e-2*10**i)\n",
    "    allantime.append(2e-2*10**i)\n",
    "    allantime.append(5e-2*10**i)\n",
    "    \n",
    "stab = np.array([float(v) for v in values[2].split(',')])\n",
    "stab = stab[stab != 0]\n",
    "\n",
    "fig, ax = plt.subplots(figsize = (16,10))\n",
    "ax.plot(allantime[:len(stab)], stab)\n",
    "ax.set_xscale('log')\n",
    "ax.set_yscale('log')"
   ]
  },
  {
   "cell_type": "code",
   "execution_count": 41,
   "metadata": {},
   "outputs": [],
   "source": [
    "def FrequencyMeasurement(freq, cnt, gate, front = True):\n",
    "    wait = gate*100 if gate*100 <= 5 else 5\n",
    "    with FS740.FS740(rm, clock_addr, protocol) as clock:\n",
    "        clock.ConfigureFrequency(freq = freq, res = 'DEF', front = front)\n",
    "        print(clock.ReadConfigure(front))\n",
    "        clock.SampleCount(cnt, front)\n",
    "        print(cnt)\n",
    "        clock.SenseFrequencyGate(gate, front)\n",
    "        print(clock.ReadSenseFrequencyGate(front))\n",
    "        clock.Initiate(front)\n",
    "    \n",
    "    \n",
    "    frequencies = np.zeros(cnt)\n",
    "    idx = 0\n",
    "    pbar = tqdm(total = cnt)\n",
    "    while True:\n",
    "        with FS740.FS740(rm, clock_addr, protocol) as clock:\n",
    "            if clock.DataCount(front) == cnt:\n",
    "                pbar.update(clock.DataCount(front) - pbar.n)\n",
    "            pbar.update(clock.DataCount(front)-pbar.n)\n",
    "            points = clock.DataPoints(front = front)\n",
    "            freq = clock.DataRemove(points, front = front)\n",
    "            frequencies[idx:idx+points] = [float(v) for v in freq.split(',')] \n",
    "            idx += points\n",
    "            if idx == cnt:\n",
    "                break\n",
    "        \n",
    "        time.sleep(wait)\n",
    "    pbar.close()\n",
    "        \n",
    "    return frequencies"
   ]
  },
  {
   "cell_type": "code",
   "execution_count": 42,
   "metadata": {},
   "outputs": [
    {
     "name": "stdout",
     "output_type": "stream",
     "text": [
      "\"FREQ 5.0e+07,5.0e-04\"\n",
      "6000\n",
      "1.00000000000000E-01\n"
     ]
    },
    {
     "data": {
      "application/vnd.jupyter.widget-view+json": {
       "model_id": "0a3c03a2751748eb85303e61573fe52c",
       "version_major": 2,
       "version_minor": 0
      },
      "text/plain": [
       "HBox(children=(IntProgress(value=0, max=6000), HTML(value='')))"
      ]
     },
     "metadata": {},
     "output_type": "display_data"
    }
   ],
   "source": [
    "freq = 50e6\n",
    "values = FrequencyMeasurement(freq, 6000, 0.1, front = False)"
   ]
  },
  {
   "cell_type": "code",
   "execution_count": 43,
   "metadata": {},
   "outputs": [
    {
     "data": {
      "image/png": "[encoded data removed]",
      "text/plain": [
       "<Figure size 864x720 with 1 Axes>"
      ]
     },
     "metadata": {},
     "output_type": "display_data"
    }
   ],
   "source": [
    "step = 0.001\n",
    "bins = np.arange(-0.01,0.01+step,step)+5e7\n",
    "fig, ax = plt.subplots(figsize = (12,10))\n",
    "ax.hist(values, bins = bins);"
   ]
  },
  {
   "cell_type": "code",
   "execution_count": null,
   "metadata": {},
   "outputs": [],
   "source": []
  }
 ],
 "metadata": {
  "kernelspec": {
   "display_name": "Python 3",
   "language": "python",
   "name": "python3"
  },
  "language_info": {
   "codemirror_mode": {
    "name": "ipython",
    "version": 3
   },
   "file_extension": ".py",
   "mimetype": "text/x-python",
   "name": "python",
   "nbconvert_exporter": "python",
   "pygments_lexer": "ipython3",
   "version": "3.6.5"
  }
 },
 "nbformat": 4,
 "nbformat_minor": 2
}
